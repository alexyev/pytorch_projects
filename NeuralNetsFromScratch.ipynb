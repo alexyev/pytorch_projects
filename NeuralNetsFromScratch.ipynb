{
  "nbformat": 4,
  "nbformat_minor": 0,
  "metadata": {
    "colab": {
      "provenance": [],
      "authorship_tag": "ABX9TyM0W/OoEGQFQErWruyldCE3"
    },
    "kernelspec": {
      "name": "python3",
      "display_name": "Python 3"
    },
    "language_info": {
      "name": "python"
    }
  },
  "cells": [
    {
      "cell_type": "code",
      "execution_count": 1,
      "metadata": {
        "id": "69b1eIsrxjMg"
      },
      "outputs": [],
      "source": [
        "import numpy as np\n",
        "import pandas as pd\n",
        "from matplotlib import pyplot as plt"
      ]
    },
    {
      "cell_type": "code",
      "source": [
        "!pip install -q kaggle"
      ],
      "metadata": {
        "id": "2vFvJqHbz0aV"
      },
      "execution_count": 2,
      "outputs": []
    },
    {
      "cell_type": "code",
      "source": [
        "from google.colab import files\n",
        "files.upload()"
      ],
      "metadata": {
        "colab": {
          "base_uri": "https://localhost:8080/",
          "height": 90
        },
        "id": "stFnW4xJ0DFa",
        "outputId": "4a1138ca-a9d7-4273-9e7a-cce0127aba52"
      },
      "execution_count": 3,
      "outputs": [
        {
          "output_type": "display_data",
          "data": {
            "text/plain": [
              "<IPython.core.display.HTML object>"
            ],
            "text/html": [
              "\n",
              "     <input type=\"file\" id=\"files-7e7b3d96-bc89-4316-a736-353006096de8\" name=\"files[]\" multiple disabled\n",
              "        style=\"border:none\" />\n",
              "     <output id=\"result-7e7b3d96-bc89-4316-a736-353006096de8\">\n",
              "      Upload widget is only available when the cell has been executed in the\n",
              "      current browser session. Please rerun this cell to enable.\n",
              "      </output>\n",
              "      <script>// Copyright 2017 Google LLC\n",
              "//\n",
              "// Licensed under the Apache License, Version 2.0 (the \"License\");\n",
              "// you may not use this file except in compliance with the License.\n",
              "// You may obtain a copy of the License at\n",
              "//\n",
              "//      http://www.apache.org/licenses/LICENSE-2.0\n",
              "//\n",
              "// Unless required by applicable law or agreed to in writing, software\n",
              "// distributed under the License is distributed on an \"AS IS\" BASIS,\n",
              "// WITHOUT WARRANTIES OR CONDITIONS OF ANY KIND, either express or implied.\n",
              "// See the License for the specific language governing permissions and\n",
              "// limitations under the License.\n",
              "\n",
              "/**\n",
              " * @fileoverview Helpers for google.colab Python module.\n",
              " */\n",
              "(function(scope) {\n",
              "function span(text, styleAttributes = {}) {\n",
              "  const element = document.createElement('span');\n",
              "  element.textContent = text;\n",
              "  for (const key of Object.keys(styleAttributes)) {\n",
              "    element.style[key] = styleAttributes[key];\n",
              "  }\n",
              "  return element;\n",
              "}\n",
              "\n",
              "// Max number of bytes which will be uploaded at a time.\n",
              "const MAX_PAYLOAD_SIZE = 100 * 1024;\n",
              "\n",
              "function _uploadFiles(inputId, outputId) {\n",
              "  const steps = uploadFilesStep(inputId, outputId);\n",
              "  const outputElement = document.getElementById(outputId);\n",
              "  // Cache steps on the outputElement to make it available for the next call\n",
              "  // to uploadFilesContinue from Python.\n",
              "  outputElement.steps = steps;\n",
              "\n",
              "  return _uploadFilesContinue(outputId);\n",
              "}\n",
              "\n",
              "// This is roughly an async generator (not supported in the browser yet),\n",
              "// where there are multiple asynchronous steps and the Python side is going\n",
              "// to poll for completion of each step.\n",
              "// This uses a Promise to block the python side on completion of each step,\n",
              "// then passes the result of the previous step as the input to the next step.\n",
              "function _uploadFilesContinue(outputId) {\n",
              "  const outputElement = document.getElementById(outputId);\n",
              "  const steps = outputElement.steps;\n",
              "\n",
              "  const next = steps.next(outputElement.lastPromiseValue);\n",
              "  return Promise.resolve(next.value.promise).then((value) => {\n",
              "    // Cache the last promise value to make it available to the next\n",
              "    // step of the generator.\n",
              "    outputElement.lastPromiseValue = value;\n",
              "    return next.value.response;\n",
              "  });\n",
              "}\n",
              "\n",
              "/**\n",
              " * Generator function which is called between each async step of the upload\n",
              " * process.\n",
              " * @param {string} inputId Element ID of the input file picker element.\n",
              " * @param {string} outputId Element ID of the output display.\n",
              " * @return {!Iterable<!Object>} Iterable of next steps.\n",
              " */\n",
              "function* uploadFilesStep(inputId, outputId) {\n",
              "  const inputElement = document.getElementById(inputId);\n",
              "  inputElement.disabled = false;\n",
              "\n",
              "  const outputElement = document.getElementById(outputId);\n",
              "  outputElement.innerHTML = '';\n",
              "\n",
              "  const pickedPromise = new Promise((resolve) => {\n",
              "    inputElement.addEventListener('change', (e) => {\n",
              "      resolve(e.target.files);\n",
              "    });\n",
              "  });\n",
              "\n",
              "  const cancel = document.createElement('button');\n",
              "  inputElement.parentElement.appendChild(cancel);\n",
              "  cancel.textContent = 'Cancel upload';\n",
              "  const cancelPromise = new Promise((resolve) => {\n",
              "    cancel.onclick = () => {\n",
              "      resolve(null);\n",
              "    };\n",
              "  });\n",
              "\n",
              "  // Wait for the user to pick the files.\n",
              "  const files = yield {\n",
              "    promise: Promise.race([pickedPromise, cancelPromise]),\n",
              "    response: {\n",
              "      action: 'starting',\n",
              "    }\n",
              "  };\n",
              "\n",
              "  cancel.remove();\n",
              "\n",
              "  // Disable the input element since further picks are not allowed.\n",
              "  inputElement.disabled = true;\n",
              "\n",
              "  if (!files) {\n",
              "    return {\n",
              "      response: {\n",
              "        action: 'complete',\n",
              "      }\n",
              "    };\n",
              "  }\n",
              "\n",
              "  for (const file of files) {\n",
              "    const li = document.createElement('li');\n",
              "    li.append(span(file.name, {fontWeight: 'bold'}));\n",
              "    li.append(span(\n",
              "        `(${file.type || 'n/a'}) - ${file.size} bytes, ` +\n",
              "        `last modified: ${\n",
              "            file.lastModifiedDate ? file.lastModifiedDate.toLocaleDateString() :\n",
              "                                    'n/a'} - `));\n",
              "    const percent = span('0% done');\n",
              "    li.appendChild(percent);\n",
              "\n",
              "    outputElement.appendChild(li);\n",
              "\n",
              "    const fileDataPromise = new Promise((resolve) => {\n",
              "      const reader = new FileReader();\n",
              "      reader.onload = (e) => {\n",
              "        resolve(e.target.result);\n",
              "      };\n",
              "      reader.readAsArrayBuffer(file);\n",
              "    });\n",
              "    // Wait for the data to be ready.\n",
              "    let fileData = yield {\n",
              "      promise: fileDataPromise,\n",
              "      response: {\n",
              "        action: 'continue',\n",
              "      }\n",
              "    };\n",
              "\n",
              "    // Use a chunked sending to avoid message size limits. See b/62115660.\n",
              "    let position = 0;\n",
              "    do {\n",
              "      const length = Math.min(fileData.byteLength - position, MAX_PAYLOAD_SIZE);\n",
              "      const chunk = new Uint8Array(fileData, position, length);\n",
              "      position += length;\n",
              "\n",
              "      const base64 = btoa(String.fromCharCode.apply(null, chunk));\n",
              "      yield {\n",
              "        response: {\n",
              "          action: 'append',\n",
              "          file: file.name,\n",
              "          data: base64,\n",
              "        },\n",
              "      };\n",
              "\n",
              "      let percentDone = fileData.byteLength === 0 ?\n",
              "          100 :\n",
              "          Math.round((position / fileData.byteLength) * 100);\n",
              "      percent.textContent = `${percentDone}% done`;\n",
              "\n",
              "    } while (position < fileData.byteLength);\n",
              "  }\n",
              "\n",
              "  // All done.\n",
              "  yield {\n",
              "    response: {\n",
              "      action: 'complete',\n",
              "    }\n",
              "  };\n",
              "}\n",
              "\n",
              "scope.google = scope.google || {};\n",
              "scope.google.colab = scope.google.colab || {};\n",
              "scope.google.colab._files = {\n",
              "  _uploadFiles,\n",
              "  _uploadFilesContinue,\n",
              "};\n",
              "})(self);\n",
              "</script> "
            ]
          },
          "metadata": {}
        },
        {
          "output_type": "stream",
          "name": "stdout",
          "text": [
            "Saving kaggle.json to kaggle.json\n"
          ]
        },
        {
          "output_type": "execute_result",
          "data": {
            "text/plain": [
              "{'kaggle.json': b'{\"username\":\"alexanderyevchenko\",\"key\":\"67fa16f895578cbabbd614de142946ae\"}'}"
            ]
          },
          "metadata": {},
          "execution_count": 3
        }
      ]
    },
    {
      "cell_type": "code",
      "source": [
        "!cp kaggle.json ~/.kaggle/"
      ],
      "metadata": {
        "id": "arrX7ReR0EXx"
      },
      "execution_count": 7,
      "outputs": []
    },
    {
      "cell_type": "code",
      "source": [
        "!chmod 600 ~/.kaggle/kaggle.json"
      ],
      "metadata": {
        "id": "OJsDjYnk0F_S"
      },
      "execution_count": 8,
      "outputs": []
    },
    {
      "cell_type": "code",
      "source": [
        "!kaggle datasets list"
      ],
      "metadata": {
        "colab": {
          "base_uri": "https://localhost:8080/"
        },
        "id": "L1KJsRTz0IKH",
        "outputId": "6bab01f3-4483-47fe-d700-00175aaf56b6"
      },
      "execution_count": 9,
      "outputs": [
        {
          "output_type": "stream",
          "name": "stdout",
          "text": [
            "ref                                                              title                                                size  lastUpdated          downloadCount  voteCount  usabilityRating  \n",
            "---------------------------------------------------------------  --------------------------------------------------  -----  -------------------  -------------  ---------  ---------------  \n",
            "ahsan81/hotel-reservations-classification-dataset                Hotel Reservations Dataset                          480KB  2023-01-04 12:50:31           7484        267  1.0              \n",
            "themrityunjaypathak/most-subscribed-1000-youtube-channels        Most Subscribed 1000 Youtube Channels                28KB  2023-01-21 14:42:05           1470         51  1.0              \n",
            "senapatirajesh/netflix-tv-shows-and-movies                       Latest Netflix TV shows and movies                    1MB  2023-01-14 17:03:12           2802         75  0.9411765        \n",
            "ulrikthygepedersen/online-retail-dataset                         Online Retail Dataset                                 7MB  2023-01-20 13:50:59           1029         26  1.0              \n",
            "yanmaksi/big-startup-secsees-fail-dataset-from-crunchbase        🚀Startup Success/Fail Dataset from Crunchbase         3MB  2023-01-22 19:14:28            946         34  1.0              \n",
            "yashwanthkumarmn/motorcycles-in-india                            Motorcycles in India                                  9KB  2023-01-14 09:35:13           1146         26  1.0              \n",
            "salimwid/technology-company-layoffs-20222023-data                Technology Company Layoffs (2022-2023)               13KB  2023-01-24 07:07:51           1086         35  1.0              \n",
            "cesaber/spam-email-data-spamassassin-2002                        Spam Email Data original & CSV file (Spamassassin)   12MB  2023-01-24 09:16:05            413         28  1.0              \n",
            "ahbab911/top-250-korean-dramas-kdrama-dataset                    Top 250 Korean Dramas (KDrama) Dataset               90KB  2023-01-21 10:06:24            763         36  1.0              \n",
            "rakkesharv/spotify-top-10000-streamed-songs                      Spotify Top 10000 Streamed Songs                    280KB  2023-01-02 08:17:15           2969         87  1.0              \n",
            "rishikeshkonapure/home-loan-approval                             Home Loan Approval                                   13KB  2023-01-12 06:28:57           2259         52  1.0              \n",
            "themrityunjaypathak/imdb-top-100-movies                          IMDb Top 100 Movies                                   4KB  2023-01-11 17:15:09           1890         52  1.0              \n",
            "ahsan81/job-placement-dataset                                    Job Placement Dataset                                 4KB  2023-01-09 09:58:49           1352         34  1.0              \n",
            "yashsrivastava51213/revenue-and-profit-of-fortune-500-companies  Revenue and Profit of Fortune 500 Companies.        328KB  2023-01-22 05:46:13            580         27  0.88235295       \n",
            "thedevastator/rotten-tomatoes-top-movies-ratings-and-technical   Rotten Tomatoes Top Movies Ratings and Technical    685KB  2023-01-17 09:43:42            872         37  1.0              \n",
            "thedevastator/global-fossil-co2-emissions-by-country-2002-2022   Emissions by Country                                  2MB  2023-01-24 04:24:10           2761         81  1.0              \n",
            "thedevastator/supermarket-ordering-invoicing-and-sales-analysi   Supermarket Ordering, Invoicing, and Sales            4MB  2023-01-15 15:37:10           1120         31  0.9411765        \n",
            "shibumohapatra/customer-life-time-value                          Customer Life Time Value                              2MB  2023-01-23 09:52:06            506         26  1.0              \n",
            "karkavelrajaj/amazon-sales-dataset                               Amazon Sales Dataset                                  2MB  2023-01-17 06:21:15           1663         52  1.0              \n",
            "dansbecker/melbourne-housing-snapshot                            Melbourne Housing Snapshot                          451KB  2018-06-05 12:52:24         105840       1205  0.7058824        \n"
          ]
        }
      ]
    },
    {
      "cell_type": "code",
      "source": [
        "!kaggle competitions download -c digit-recognizer"
      ],
      "metadata": {
        "colab": {
          "base_uri": "https://localhost:8080/"
        },
        "id": "ORW6EFuR0KI2",
        "outputId": "27e42d9e-2fe3-4d8a-928b-392a55041004"
      },
      "execution_count": 10,
      "outputs": [
        {
          "output_type": "stream",
          "name": "stdout",
          "text": [
            "Downloading digit-recognizer.zip to /content\n",
            "\r  0% 0.00/15.3M [00:00<?, ?B/s]\r 59% 9.00M/15.3M [00:00<00:00, 94.1MB/s]\n",
            "\r100% 15.3M/15.3M [00:00<00:00, 121MB/s] \n"
          ]
        }
      ]
    },
    {
      "cell_type": "code",
      "source": [
        "!unzip digit-recognizer.zip"
      ],
      "metadata": {
        "colab": {
          "base_uri": "https://localhost:8080/"
        },
        "id": "NzCoMenM0MMv",
        "outputId": "4e33afeb-1470-44d2-8697-70527a09dcc5"
      },
      "execution_count": 11,
      "outputs": [
        {
          "output_type": "stream",
          "name": "stdout",
          "text": [
            "Archive:  digit-recognizer.zip\n",
            "  inflating: sample_submission.csv   \n",
            "  inflating: test.csv                \n",
            "  inflating: train.csv               \n"
          ]
        }
      ]
    },
    {
      "cell_type": "code",
      "source": [
        "data = pd.read_csv('/content/train.csv')"
      ],
      "metadata": {
        "id": "fzN5hc8Fzdbw"
      },
      "execution_count": 13,
      "outputs": []
    },
    {
      "cell_type": "code",
      "source": [
        "data.head()"
      ],
      "metadata": {
        "colab": {
          "base_uri": "https://localhost:8080/",
          "height": 299
        },
        "id": "dAy9l6lG1Kg1",
        "outputId": "45b9addd-bf5c-49a4-eca0-545d60ccc90a"
      },
      "execution_count": 14,
      "outputs": [
        {
          "output_type": "execute_result",
          "data": {
            "text/plain": [
              "   label  pixel0  pixel1  pixel2  pixel3  pixel4  pixel5  pixel6  pixel7  \\\n",
              "0      1       0       0       0       0       0       0       0       0   \n",
              "1      0       0       0       0       0       0       0       0       0   \n",
              "2      1       0       0       0       0       0       0       0       0   \n",
              "3      4       0       0       0       0       0       0       0       0   \n",
              "4      0       0       0       0       0       0       0       0       0   \n",
              "\n",
              "   pixel8  ...  pixel774  pixel775  pixel776  pixel777  pixel778  pixel779  \\\n",
              "0       0  ...         0         0         0         0         0         0   \n",
              "1       0  ...         0         0         0         0         0         0   \n",
              "2       0  ...         0         0         0         0         0         0   \n",
              "3       0  ...         0         0         0         0         0         0   \n",
              "4       0  ...         0         0         0         0         0         0   \n",
              "\n",
              "   pixel780  pixel781  pixel782  pixel783  \n",
              "0         0         0         0         0  \n",
              "1         0         0         0         0  \n",
              "2         0         0         0         0  \n",
              "3         0         0         0         0  \n",
              "4         0         0         0         0  \n",
              "\n",
              "[5 rows x 785 columns]"
            ],
            "text/html": [
              "\n",
              "  <div id=\"df-731bdf3f-28ed-4b23-bc28-83851b79c388\">\n",
              "    <div class=\"colab-df-container\">\n",
              "      <div>\n",
              "<style scoped>\n",
              "    .dataframe tbody tr th:only-of-type {\n",
              "        vertical-align: middle;\n",
              "    }\n",
              "\n",
              "    .dataframe tbody tr th {\n",
              "        vertical-align: top;\n",
              "    }\n",
              "\n",
              "    .dataframe thead th {\n",
              "        text-align: right;\n",
              "    }\n",
              "</style>\n",
              "<table border=\"1\" class=\"dataframe\">\n",
              "  <thead>\n",
              "    <tr style=\"text-align: right;\">\n",
              "      <th></th>\n",
              "      <th>label</th>\n",
              "      <th>pixel0</th>\n",
              "      <th>pixel1</th>\n",
              "      <th>pixel2</th>\n",
              "      <th>pixel3</th>\n",
              "      <th>pixel4</th>\n",
              "      <th>pixel5</th>\n",
              "      <th>pixel6</th>\n",
              "      <th>pixel7</th>\n",
              "      <th>pixel8</th>\n",
              "      <th>...</th>\n",
              "      <th>pixel774</th>\n",
              "      <th>pixel775</th>\n",
              "      <th>pixel776</th>\n",
              "      <th>pixel777</th>\n",
              "      <th>pixel778</th>\n",
              "      <th>pixel779</th>\n",
              "      <th>pixel780</th>\n",
              "      <th>pixel781</th>\n",
              "      <th>pixel782</th>\n",
              "      <th>pixel783</th>\n",
              "    </tr>\n",
              "  </thead>\n",
              "  <tbody>\n",
              "    <tr>\n",
              "      <th>0</th>\n",
              "      <td>1</td>\n",
              "      <td>0</td>\n",
              "      <td>0</td>\n",
              "      <td>0</td>\n",
              "      <td>0</td>\n",
              "      <td>0</td>\n",
              "      <td>0</td>\n",
              "      <td>0</td>\n",
              "      <td>0</td>\n",
              "      <td>0</td>\n",
              "      <td>...</td>\n",
              "      <td>0</td>\n",
              "      <td>0</td>\n",
              "      <td>0</td>\n",
              "      <td>0</td>\n",
              "      <td>0</td>\n",
              "      <td>0</td>\n",
              "      <td>0</td>\n",
              "      <td>0</td>\n",
              "      <td>0</td>\n",
              "      <td>0</td>\n",
              "    </tr>\n",
              "    <tr>\n",
              "      <th>1</th>\n",
              "      <td>0</td>\n",
              "      <td>0</td>\n",
              "      <td>0</td>\n",
              "      <td>0</td>\n",
              "      <td>0</td>\n",
              "      <td>0</td>\n",
              "      <td>0</td>\n",
              "      <td>0</td>\n",
              "      <td>0</td>\n",
              "      <td>0</td>\n",
              "      <td>...</td>\n",
              "      <td>0</td>\n",
              "      <td>0</td>\n",
              "      <td>0</td>\n",
              "      <td>0</td>\n",
              "      <td>0</td>\n",
              "      <td>0</td>\n",
              "      <td>0</td>\n",
              "      <td>0</td>\n",
              "      <td>0</td>\n",
              "      <td>0</td>\n",
              "    </tr>\n",
              "    <tr>\n",
              "      <th>2</th>\n",
              "      <td>1</td>\n",
              "      <td>0</td>\n",
              "      <td>0</td>\n",
              "      <td>0</td>\n",
              "      <td>0</td>\n",
              "      <td>0</td>\n",
              "      <td>0</td>\n",
              "      <td>0</td>\n",
              "      <td>0</td>\n",
              "      <td>0</td>\n",
              "      <td>...</td>\n",
              "      <td>0</td>\n",
              "      <td>0</td>\n",
              "      <td>0</td>\n",
              "      <td>0</td>\n",
              "      <td>0</td>\n",
              "      <td>0</td>\n",
              "      <td>0</td>\n",
              "      <td>0</td>\n",
              "      <td>0</td>\n",
              "      <td>0</td>\n",
              "    </tr>\n",
              "    <tr>\n",
              "      <th>3</th>\n",
              "      <td>4</td>\n",
              "      <td>0</td>\n",
              "      <td>0</td>\n",
              "      <td>0</td>\n",
              "      <td>0</td>\n",
              "      <td>0</td>\n",
              "      <td>0</td>\n",
              "      <td>0</td>\n",
              "      <td>0</td>\n",
              "      <td>0</td>\n",
              "      <td>...</td>\n",
              "      <td>0</td>\n",
              "      <td>0</td>\n",
              "      <td>0</td>\n",
              "      <td>0</td>\n",
              "      <td>0</td>\n",
              "      <td>0</td>\n",
              "      <td>0</td>\n",
              "      <td>0</td>\n",
              "      <td>0</td>\n",
              "      <td>0</td>\n",
              "    </tr>\n",
              "    <tr>\n",
              "      <th>4</th>\n",
              "      <td>0</td>\n",
              "      <td>0</td>\n",
              "      <td>0</td>\n",
              "      <td>0</td>\n",
              "      <td>0</td>\n",
              "      <td>0</td>\n",
              "      <td>0</td>\n",
              "      <td>0</td>\n",
              "      <td>0</td>\n",
              "      <td>0</td>\n",
              "      <td>...</td>\n",
              "      <td>0</td>\n",
              "      <td>0</td>\n",
              "      <td>0</td>\n",
              "      <td>0</td>\n",
              "      <td>0</td>\n",
              "      <td>0</td>\n",
              "      <td>0</td>\n",
              "      <td>0</td>\n",
              "      <td>0</td>\n",
              "      <td>0</td>\n",
              "    </tr>\n",
              "  </tbody>\n",
              "</table>\n",
              "<p>5 rows × 785 columns</p>\n",
              "</div>\n",
              "      <button class=\"colab-df-convert\" onclick=\"convertToInteractive('df-731bdf3f-28ed-4b23-bc28-83851b79c388')\"\n",
              "              title=\"Convert this dataframe to an interactive table.\"\n",
              "              style=\"display:none;\">\n",
              "        \n",
              "  <svg xmlns=\"http://www.w3.org/2000/svg\" height=\"24px\"viewBox=\"0 0 24 24\"\n",
              "       width=\"24px\">\n",
              "    <path d=\"M0 0h24v24H0V0z\" fill=\"none\"/>\n",
              "    <path d=\"M18.56 5.44l.94 2.06.94-2.06 2.06-.94-2.06-.94-.94-2.06-.94 2.06-2.06.94zm-11 1L8.5 8.5l.94-2.06 2.06-.94-2.06-.94L8.5 2.5l-.94 2.06-2.06.94zm10 10l.94 2.06.94-2.06 2.06-.94-2.06-.94-.94-2.06-.94 2.06-2.06.94z\"/><path d=\"M17.41 7.96l-1.37-1.37c-.4-.4-.92-.59-1.43-.59-.52 0-1.04.2-1.43.59L10.3 9.45l-7.72 7.72c-.78.78-.78 2.05 0 2.83L4 21.41c.39.39.9.59 1.41.59.51 0 1.02-.2 1.41-.59l7.78-7.78 2.81-2.81c.8-.78.8-2.07 0-2.86zM5.41 20L4 18.59l7.72-7.72 1.47 1.35L5.41 20z\"/>\n",
              "  </svg>\n",
              "      </button>\n",
              "      \n",
              "  <style>\n",
              "    .colab-df-container {\n",
              "      display:flex;\n",
              "      flex-wrap:wrap;\n",
              "      gap: 12px;\n",
              "    }\n",
              "\n",
              "    .colab-df-convert {\n",
              "      background-color: #E8F0FE;\n",
              "      border: none;\n",
              "      border-radius: 50%;\n",
              "      cursor: pointer;\n",
              "      display: none;\n",
              "      fill: #1967D2;\n",
              "      height: 32px;\n",
              "      padding: 0 0 0 0;\n",
              "      width: 32px;\n",
              "    }\n",
              "\n",
              "    .colab-df-convert:hover {\n",
              "      background-color: #E2EBFA;\n",
              "      box-shadow: 0px 1px 2px rgba(60, 64, 67, 0.3), 0px 1px 3px 1px rgba(60, 64, 67, 0.15);\n",
              "      fill: #174EA6;\n",
              "    }\n",
              "\n",
              "    [theme=dark] .colab-df-convert {\n",
              "      background-color: #3B4455;\n",
              "      fill: #D2E3FC;\n",
              "    }\n",
              "\n",
              "    [theme=dark] .colab-df-convert:hover {\n",
              "      background-color: #434B5C;\n",
              "      box-shadow: 0px 1px 3px 1px rgba(0, 0, 0, 0.15);\n",
              "      filter: drop-shadow(0px 1px 2px rgba(0, 0, 0, 0.3));\n",
              "      fill: #FFFFFF;\n",
              "    }\n",
              "  </style>\n",
              "\n",
              "      <script>\n",
              "        const buttonEl =\n",
              "          document.querySelector('#df-731bdf3f-28ed-4b23-bc28-83851b79c388 button.colab-df-convert');\n",
              "        buttonEl.style.display =\n",
              "          google.colab.kernel.accessAllowed ? 'block' : 'none';\n",
              "\n",
              "        async function convertToInteractive(key) {\n",
              "          const element = document.querySelector('#df-731bdf3f-28ed-4b23-bc28-83851b79c388');\n",
              "          const dataTable =\n",
              "            await google.colab.kernel.invokeFunction('convertToInteractive',\n",
              "                                                     [key], {});\n",
              "          if (!dataTable) return;\n",
              "\n",
              "          const docLinkHtml = 'Like what you see? Visit the ' +\n",
              "            '<a target=\"_blank\" href=https://colab.research.google.com/notebooks/data_table.ipynb>data table notebook</a>'\n",
              "            + ' to learn more about interactive tables.';\n",
              "          element.innerHTML = '';\n",
              "          dataTable['output_type'] = 'display_data';\n",
              "          await google.colab.output.renderOutput(dataTable, element);\n",
              "          const docLink = document.createElement('div');\n",
              "          docLink.innerHTML = docLinkHtml;\n",
              "          element.appendChild(docLink);\n",
              "        }\n",
              "      </script>\n",
              "    </div>\n",
              "  </div>\n",
              "  "
            ]
          },
          "metadata": {},
          "execution_count": 14
        }
      ]
    },
    {
      "cell_type": "code",
      "source": [
        "data = np.array(data)\n",
        "m, n = data.shape # where m is the number of rows and n is the number of columns\n",
        "np.random.shuffle(data)\n",
        "\n",
        "data_val = data[0:1000].T # grab first 1000 examples as val data, transpose\n",
        "Y_val = data_val[0] # first row is all of the labels\n",
        "X_val = data_val[1:n] # the rest of the rows are now the pixel values\n",
        "X_val = X_val / 255.\n",
        "\n",
        "\n",
        "data_train = data[1000:m].T\n",
        "Y_train = data_train[0]\n",
        "X_train = data_train[1:n]\n",
        "X_train = X_train / 255.\n",
        "_, m_train = X_train.shape"
      ],
      "metadata": {
        "id": "0CLJ3H3F1Pnv"
      },
      "execution_count": 56,
      "outputs": []
    },
    {
      "cell_type": "code",
      "source": [
        "def init_params():\n",
        "  W1 = np.random.rand(10, 784) - 0.5\n",
        "  B1 = np.random.rand(10, 1) - 0.5\n",
        "  W2 = np.random.rand(10, 10) - 0.5\n",
        "  B2 = np.random.rand(10, 1) - 0.5\n",
        "  return W1, B1, W2, B2\n",
        "\n",
        "def ReLU(Z):\n",
        "  return np.maximum(Z, 0)\n",
        "\n",
        "def deriv_ReLU(Z):\n",
        "  return Z > 0  \n",
        "\n",
        "def softmax(Z):\n",
        "  A = np.exp(Z) / sum(np.exp(Z))\n",
        "  return A\n",
        "\n",
        "def forward_prop(W1, B1, W2, B2, X):\n",
        "  Z1 = W1.dot(X) + B1\n",
        "  A1 = ReLU(Z1)\n",
        "  Z2 = W2.dot(A1) + B2 \n",
        "  A2 = softmax(Z2)\n",
        "  return Z1, A1, Z2, A2\n",
        "\n",
        "def one_hot(Y):\n",
        "  one_hot_Y = np.zeros((Y.size, Y.max() + 1))\n",
        "  one_hot_Y[np.arange(Y.size), Y] = 1\n",
        "  one_hot_Y = one_hot_Y.T\n",
        "  return one_hot_Y\n",
        "\n",
        "def back_prop(Z1, A1, Z2, A2, W1, W2, X, Y):\n",
        "  one_hot_Y = one_hot(Y)\n",
        "  dZ2 = A2 - one_hot_Y\n",
        "  dW2 = 1 / m * dZ2.dot(A1.T)\n",
        "  dB2 = 1 / m * np.sum(dZ2) \n",
        "  dZ1 = W2.T.dot(dZ2) * deriv_ReLU(Z1)\n",
        "  dW1 = 1 / m * dZ1.dot(X.T)\n",
        "  dB1 = 1 / m * np.sum(dZ1)\n",
        "\n",
        "  return dW1, dB1, dW2, dB2\n",
        "\n",
        "def update_params(W1, B1, W2, B2, dW1, dB1, dW2, dB2, alpha):\n",
        "  W1 = W1 - alpha * dW1\n",
        "  B1 = B1 - alpha * dB1\n",
        "  W2 = W2 - alpha * dW2\n",
        "  B2 = B2 - alpha * dB2\n",
        "\n",
        "  return W1, B1, W2, B2\n"
      ],
      "metadata": {
        "id": "W0JzX4ez1Pji"
      },
      "execution_count": 57,
      "outputs": []
    },
    {
      "cell_type": "code",
      "source": [
        "def get_predictions(A2):\n",
        "  return np.argmax(A2, 0)\n",
        "\n",
        "def get_accuracy(predictions, Y):\n",
        "  print(predictions, Y)\n",
        "  return np.sum(predictions == Y) / Y.size  \n",
        "\n",
        "def gradient_descent(X, Y, iterations, alpha):\n",
        "  W1, B1, W2, B2 = init_params()\n",
        "  for i in range(iterations):\n",
        "    Z1, A1, Z2, A2 = forward_prop(W1, B1, W2, B2, X)\n",
        "    dW1, dB1, dW2, dB2 = back_prop(Z1, A1, Z2, A2, W1, W2, X, Y)\n",
        "    W1, B1, W2, B2 = update_params(W1, B1, W2, B2, dW1, dB1, dW2, dB2, alpha)\n",
        "    if i % 50 == 0:\n",
        "      print(\"Iteration: \", i)\n",
        "      predictions = get_predictions(A2)\n",
        "      print(get_accuracy(predictions, Y))\n",
        "  return W1, B1, W2, B2\n"
      ],
      "metadata": {
        "id": "qZ62TAJo3rcC"
      },
      "execution_count": 58,
      "outputs": []
    },
    {
      "cell_type": "code",
      "source": [
        "W1, B1, W2, B2 = gradient_descent(X_train, Y_train, 500, 0.1)"
      ],
      "metadata": {
        "colab": {
          "base_uri": "https://localhost:8080/"
        },
        "id": "H_eZutdT709N",
        "outputId": "41a1b327-2dab-49d8-e127-12c4145d9366"
      },
      "execution_count": 59,
      "outputs": [
        {
          "output_type": "stream",
          "name": "stdout",
          "text": [
            "Iteration:  0\n",
            "[7 8 6 ... 8 8 6] [0 7 2 ... 8 7 8]\n",
            "0.12548780487804878\n",
            "Iteration:  50\n",
            "[0 3 1 ... 8 5 2] [0 7 2 ... 8 7 8]\n",
            "0.4662439024390244\n",
            "Iteration:  100\n",
            "[0 2 1 ... 8 5 3] [0 7 2 ... 8 7 8]\n",
            "0.6543658536585366\n",
            "Iteration:  150\n",
            "[0 2 1 ... 8 7 3] [0 7 2 ... 8 7 8]\n",
            "0.7315853658536585\n",
            "Iteration:  200\n",
            "[0 2 3 ... 6 7 3] [0 7 2 ... 8 7 8]\n",
            "0.7721463414634147\n",
            "Iteration:  250\n",
            "[0 2 3 ... 6 7 3] [0 7 2 ... 8 7 8]\n",
            "0.7964878048780488\n",
            "Iteration:  300\n",
            "[0 2 2 ... 6 7 8] [0 7 2 ... 8 7 8]\n",
            "0.8144878048780487\n",
            "Iteration:  350\n",
            "[0 2 2 ... 6 7 8] [0 7 2 ... 8 7 8]\n",
            "0.8269756097560975\n",
            "Iteration:  400\n",
            "[0 2 2 ... 6 7 8] [0 7 2 ... 8 7 8]\n",
            "0.8366829268292683\n",
            "Iteration:  450\n",
            "[0 2 2 ... 6 7 8] [0 7 2 ... 8 7 8]\n",
            "0.8438048780487805\n"
          ]
        }
      ]
    },
    {
      "cell_type": "code",
      "source": [
        "def make_predictions(X, W1, b1, W2, b2):\n",
        "    _, _, _, A2 = forward_prop(W1, b1, W2, b2, X)\n",
        "    predictions = get_predictions(A2)\n",
        "    return predictions\n",
        "\n",
        "def test_prediction(index, W1, b1, W2, b2):\n",
        "    current_image = X_train[:, index, None]\n",
        "    prediction = make_predictions(X_train[:, index, None], W1, b1, W2, b2)\n",
        "    label = Y_train[index]\n",
        "    print(\"Prediction: \", prediction)\n",
        "    print(\"Label: \", label)\n",
        "    \n",
        "    current_image = current_image.reshape((28, 28)) * 255\n",
        "    plt.gray()\n",
        "    plt.imshow(current_image, interpolation='nearest')\n",
        "    plt.show()"
      ],
      "metadata": {
        "id": "5wum8TQfDeSj"
      },
      "execution_count": 60,
      "outputs": []
    },
    {
      "cell_type": "code",
      "source": [
        "test_prediction(0, W1, B1, W2, B2)\n",
        "test_prediction(1, W1, B1, W2, B2)\n",
        "test_prediction(2, W1, B1, W2, B2)\n",
        "test_prediction(3, W1, B1, W2, B2)"
      ],
      "metadata": {
        "colab": {
          "base_uri": "https://localhost:8080/",
          "height": 1000
        },
        "id": "zZVxAywgDgbK",
        "outputId": "bfd1ca6c-3050-431b-f837-fd4a469c10de"
      },
      "execution_count": 61,
      "outputs": [
        {
          "output_type": "stream",
          "name": "stdout",
          "text": [
            "Prediction:  [0]\n",
            "Label:  0\n"
          ]
        },
        {
          "output_type": "display_data",
          "data": {
            "text/plain": [
              "<Figure size 432x288 with 1 Axes>"
            ],
            "image/png": "[encoded data removed]"
          },
          "metadata": {
            "needs_background": "light"
          }
        },
        {
          "output_type": "stream",
          "name": "stdout",
          "text": [
            "Prediction:  [2]\n",
            "Label:  7\n"
          ]
        },
        {
          "output_type": "display_data",
          "data": {
            "text/plain": [
              "<Figure size 432x288 with 1 Axes>"
            ],
            "image/png": "[encoded data removed]"
          },
          "metadata": {
            "needs_background": "light"
          }
        },
        {
          "output_type": "stream",
          "name": "stdout",
          "text": [
            "Prediction:  [2]\n",
            "Label:  2\n"
          ]
        },
        {
          "output_type": "display_data",
          "data": {
            "text/plain": [
              "<Figure size 432x288 with 1 Axes>"
            ],
            "image/png": "[encoded data removed]"
          },
          "metadata": {
            "needs_background": "light"
          }
        },
        {
          "output_type": "stream",
          "name": "stdout",
          "text": [
            "Prediction:  [3]\n",
            "Label:  3\n"
          ]
        },
        {
          "output_type": "display_data",
          "data": {
            "text/plain": [
              "<Figure size 432x288 with 1 Axes>"
            ],
            "image/png": "[encoded data removed]"
          },
          "metadata": {
            "needs_background": "light"
          }
        }
      ]
    },
    {
      "cell_type": "code",
      "source": [
        "val_predictions = make_predictions(X_val, W1, B1, W2, B2)\n",
        "get_accuracy(val_predictions, Y_val)"
      ],
      "metadata": {
        "colab": {
          "base_uri": "https://localhost:8080/"
        },
        "id": "rlSd1IKUDuCS",
        "outputId": "7bdd0c33-ddb8-4708-f287-5061cb0d1c42"
      },
      "execution_count": 62,
      "outputs": [
        {
          "output_type": "stream",
          "name": "stdout",
          "text": [
            "[3 3 0 6 4 7 6 6 8 9 6 0 6 7 8 3 4 1 8 8 6 2 3 7 9 5 7 2 3 1 1 4 6 5 9 8 2\n",
            " 3 0 1 0 4 4 1 7 3 2 3 3 5 8 8 2 1 3 2 9 1 1 5 0 0 9 0 0 7 6 6 7 5 7 0 7 1\n",
            " 9 1 7 5 2 7 0 9 5 3 2 3 9 4 3 3 8 4 8 9 0 8 1 5 8 8 5 1 6 1 8 4 9 3 8 3 3\n",
            " 7 1 8 0 3 8 2 5 2 2 7 2 6 3 7 0 6 1 0 0 7 1 0 5 1 3 7 2 3 3 8 9 8 1 1 5 1\n",
            " 5 4 1 5 8 7 7 2 6 6 5 8 6 8 2 1 8 7 1 0 6 1 4 4 1 9 7 9 2 5 8 4 7 2 3 8 0\n",
            " 8 1 9 8 0 8 7 4 0 1 4 1 1 4 0 0 7 3 4 9 6 2 0 4 8 2 3 9 1 9 0 5 2 9 2 7 4\n",
            " 4 4 4 1 3 5 4 4 2 2 3 8 8 4 8 2 8 8 4 1 3 8 1 4 3 1 0 3 8 3 0 9 7 8 3 9 9\n",
            " 4 7 0 3 1 6 2 4 1 8 2 3 4 8 3 3 7 5 9 9 5 6 9 0 9 7 8 5 3 3 9 3 2 2 7 4 6\n",
            " 5 1 8 8 6 5 0 6 4 7 7 0 2 1 8 1 7 3 4 9 0 5 2 1 1 0 3 4 5 8 2 7 2 3 8 1 0\n",
            " 5 3 9 1 9 0 2 3 5 9 1 2 5 6 3 7 1 3 8 3 6 1 8 2 5 3 1 8 6 7 4 7 7 4 4 8 1\n",
            " 4 8 8 7 0 7 2 8 6 8 9 7 9 0 5 7 9 5 7 4 8 8 8 3 3 6 1 0 4 4 1 5 7 1 8 7 7\n",
            " 7 7 0 0 3 9 6 4 2 3 5 5 9 3 8 4 4 4 5 6 8 3 0 9 0 5 5 0 5 1 3 1 1 8 1 9 0\n",
            " 4 5 6 8 6 3 5 7 3 0 3 7 0 3 0 6 9 3 1 4 7 6 3 5 4 5 5 3 0 1 3 2 6 8 6 9 5\n",
            " 9 3 0 9 8 2 4 4 9 8 0 3 2 4 3 8 8 2 4 7 8 1 3 0 9 8 2 8 8 6 7 0 4 7 8 1 5\n",
            " 2 8 5 9 7 6 3 0 3 9 3 7 9 1 3 0 4 6 6 6 3 8 8 4 9 4 2 4 2 4 1 1 1 6 0 2 7\n",
            " 7 5 3 6 5 2 6 9 3 5 1 1 2 1 3 0 0 9 2 6 9 7 8 1 2 3 4 7 6 3 4 0 1 5 9 9 2\n",
            " 8 8 9 3 9 3 8 0 3 4 8 0 0 4 7 7 1 4 7 9 4 9 2 0 7 5 7 0 9 8 7 6 5 6 0 6 6\n",
            " 1 4 2 1 0 3 3 8 2 0 8 1 6 0 8 8 1 6 3 0 9 6 6 1 5 4 4 2 9 7 1 7 5 0 1 9 3\n",
            " 2 9 0 0 7 7 7 7 4 8 7 1 3 9 0 4 6 7 0 6 8 9 4 8 4 5 6 2 3 6 7 8 2 8 8 4 5\n",
            " 6 2 5 9 1 1 9 7 3 1 1 3 2 4 7 8 4 5 2 2 2 6 9 8 6 5 8 0 7 4 6 7 3 1 7 9 8\n",
            " 7 0 8 8 6 5 2 9 5 9 9 3 5 2 8 5 3 2 8 4 5 4 2 3 3 8 7 8 9 1 7 0 9 3 0 9 6\n",
            " 5 3 7 9 2 5 7 1 1 7 7 2 7 5 5 1 3 9 3 3 6 6 2 6 2 7 5 8 2 5 2 2 9 4 2 1 3\n",
            " 4 1 4 3 4 6 2 7 3 9 9 8 3 6 4 4 1 8 1 1 5 1 2 0 7 8 0 3 7 8 5 9 6 2 6 9 3\n",
            " 9 7 2 1 8 8 6 1 2 0 9 4 8 0 5 6 1 1 5 2 0 6 1 3 4 1 7 6 4 8 2 4 4 6 4 6 6\n",
            " 8 2 1 8 1 5 3 6 2 7 4 3 3 6 9 5 7 9 6 7 6 7 9 2 9 2 1 1 0 9 9 2 9 8 7 7 7\n",
            " 5 8 9 3 3 4 6 1 8 2 4 1 1 8 1 6 6 2 0 3 7 6 0 7 4 4 9 6 9 1 2 2 8 4 8 3 2\n",
            " 7 8 7 6 8 8 1 1 1 1 5 6 4 9 0 4 1 1 4 4 1 4 4 7 4 4 9 8 1 6 3 9 4 4 7 6 6\n",
            " 5] [3 3 6 2 4 7 6 6 8 9 3 0 6 7 8 5 4 1 8 5 6 2 3 7 9 5 7 7 3 1 1 9 6 5 9 8 2\n",
            " 3 0 1 0 4 4 1 7 3 2 3 3 5 8 8 2 4 3 3 9 1 1 5 0 4 9 6 0 7 6 6 7 5 7 0 7 1\n",
            " 9 1 7 5 2 7 0 7 8 3 2 3 7 4 5 3 8 4 9 9 0 8 1 5 1 8 0 1 6 1 6 4 9 3 8 3 3\n",
            " 7 1 8 0 3 8 2 5 2 2 7 2 6 3 7 0 5 1 0 0 7 1 0 5 1 5 7 2 5 3 5 9 3 1 1 5 8\n",
            " 5 9 1 5 8 7 7 2 6 6 5 8 6 8 2 1 5 7 1 0 6 1 4 9 1 9 7 9 2 5 8 4 7 2 3 5 0\n",
            " 8 1 9 8 0 3 9 4 0 1 4 1 1 6 0 0 7 5 4 9 6 2 0 6 8 2 3 9 1 7 0 5 2 9 2 7 4\n",
            " 4 4 4 1 8 5 4 4 2 2 3 4 5 4 8 4 8 8 4 1 3 8 1 9 3 1 0 3 8 2 0 9 7 5 2 7 9\n",
            " 4 7 0 3 1 6 2 5 1 3 2 3 4 8 3 3 7 2 9 9 3 6 9 0 9 0 8 5 3 3 9 3 2 2 7 4 6\n",
            " 5 7 8 8 6 3 0 6 4 7 7 0 2 1 5 1 7 3 4 9 0 5 2 1 1 0 2 4 5 5 2 7 2 3 8 1 0\n",
            " 5 3 9 1 9 0 2 3 5 8 1 3 8 6 5 7 1 8 8 3 6 1 8 6 5 3 1 8 6 7 4 7 7 4 4 3 1\n",
            " 4 8 8 7 0 7 2 2 6 8 9 7 4 0 5 7 9 5 7 4 2 8 5 3 0 6 1 0 4 4 1 5 7 1 8 7 7\n",
            " 5 7 0 0 3 9 6 4 2 3 5 5 9 3 8 4 4 4 5 6 1 5 0 9 0 5 5 0 5 1 3 1 1 8 1 9 0\n",
            " 4 3 6 9 6 3 8 7 3 0 3 9 0 3 0 6 3 3 9 4 7 6 3 5 4 5 6 3 0 1 3 0 6 8 6 7 5\n",
            " 9 2 0 9 8 3 4 4 9 5 0 3 2 4 3 8 3 3 4 7 8 1 3 0 9 8 2 8 8 6 7 0 4 7 8 1 8\n",
            " 2 8 5 7 9 6 3 8 3 9 3 7 9 1 4 0 4 6 6 6 3 9 8 4 9 2 3 4 2 4 4 1 1 6 0 2 3\n",
            " 7 5 3 6 5 6 6 8 3 5 1 1 8 1 3 0 9 4 2 2 7 7 8 1 0 3 4 7 6 2 4 0 3 5 9 9 2\n",
            " 8 8 9 3 9 3 8 0 5 4 5 0 0 5 7 7 1 4 7 9 4 9 2 0 7 5 7 0 9 5 7 2 3 6 0 6 6\n",
            " 1 9 2 1 0 3 3 8 2 0 8 3 6 0 5 8 8 6 3 0 4 6 6 1 5 4 4 2 9 7 1 7 5 0 1 9 3\n",
            " 2 9 0 0 7 7 7 7 4 8 7 1 3 9 6 4 6 0 0 6 8 9 4 3 4 5 6 2 3 6 7 8 2 8 8 4 5\n",
            " 6 2 5 7 1 1 9 7 3 1 1 5 2 4 7 8 4 5 0 2 2 6 9 8 8 5 8 0 7 4 6 7 3 2 7 9 8\n",
            " 7 0 8 8 6 5 2 9 5 4 9 3 5 2 6 3 3 2 3 4 5 4 2 3 3 8 7 8 9 1 7 0 9 3 2 3 6\n",
            " 5 3 7 9 2 5 7 1 1 7 7 2 7 5 5 1 3 9 3 3 6 6 2 6 2 2 5 8 2 5 2 2 8 4 3 1 3\n",
            " 9 1 4 3 4 6 7 7 3 9 4 8 3 6 9 4 1 9 1 1 8 1 2 0 7 8 0 3 7 8 5 9 6 2 6 9 3\n",
            " 9 7 2 1 8 8 6 1 2 0 9 4 5 0 5 6 1 1 5 2 0 6 1 8 4 5 7 5 4 5 2 4 6 6 2 5 6\n",
            " 3 2 1 5 8 5 3 5 2 7 4 3 3 6 9 5 7 9 8 7 6 7 9 2 4 4 1 1 0 9 5 2 9 8 7 7 7\n",
            " 5 8 9 3 5 4 6 1 2 2 4 1 1 8 1 6 6 2 0 8 7 6 0 7 9 4 8 6 9 1 2 2 8 4 8 3 2\n",
            " 7 8 7 6 8 8 1 1 1 1 5 6 4 9 0 4 1 1 4 4 1 4 4 9 4 4 9 8 5 6 3 9 4 4 7 6 6\n",
            " 9]\n"
          ]
        },
        {
          "output_type": "execute_result",
          "data": {
            "text/plain": [
              "0.839"
            ]
          },
          "metadata": {},
          "execution_count": 62
        }
      ]
    }
  ]
}